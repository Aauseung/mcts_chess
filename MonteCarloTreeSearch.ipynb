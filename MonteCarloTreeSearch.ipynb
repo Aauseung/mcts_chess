{
 "cells": [
  {
   "cell_type": "code",
   "execution_count": null,
   "id": "bd027340-d011-45a8-98a0-c87b36751baa",
   "metadata": {},
   "outputs": [],
   "source": [
    "import numpy as np\n",
    "import logging\n",
    "\n",
    "from gamestate import GameState\n",
    "from montecarlotreesearchnode import MonteCarloTreeSearchNode\n",
    "\n",
    "\n",
    "class MonteCarloTreeSearch:\n",
    "    # Note that there's no training / testing here.\n",
    "    # Only get the best move to make according to simulation, regardless of how deep the actual game tree is.\n",
    "    # Note that, at number_of_simulation = inf, MCTS --> Minimax.\n",
    "    @staticmethod\n",
    "    def get_best_move(game_state: GameState, number_of_simulation=100):\n",
    "        root = MonteCarloTreeSearchNode(game_state, None)\n",
    "        for i in range(number_of_simulation):\n",
    "            logging.debug(f'\\nIteration number: {i + 1}')\n",
    "            leaf_node = root.select()  # @Todo: Move this c to be a parameter of MCTS\n",
    "            winner = leaf_node.rollout()\n",
    "            leaf_node.backpropagate(winner)\n",
    "\n",
    "        MonteCarloTreeSearch.__print_tree(root)\n",
    "\n",
    "        # When finally choosing an action, we shouldn't be exploring.\n",
    "        return root.select_child_with_random().action\n",
    "\n",
    "    @staticmethod\n",
    "    def __print_tree(root: MonteCarloTreeSearchNode):\n",
    "        logging.debug('\\n Printing the current tree:')\n",
    "        queue = [root]\n",
    "        while queue:\n",
    "            popped_node = queue.pop()\n",
    "            logging.debug(popped_node)\n",
    "            for child_node in popped_node.children:\n",
    "                queue.append(child_node)\n",
    "        logging.debug('\\n')"
   ]
  }
 ],
 "metadata": {
  "kernelspec": {
   "display_name": "Python 3 (ipykernel)",
   "language": "python",
   "name": "python3"
  },
  "language_info": {
   "codemirror_mode": {
    "name": "ipython",
    "version": 3
   },
   "file_extension": ".py",
   "mimetype": "text/x-python",
   "name": "python",
   "nbconvert_exporter": "python",
   "pygments_lexer": "ipython3",
   "version": "3.7.4"
  }
 },
 "nbformat": 4,
 "nbformat_minor": 5
}
